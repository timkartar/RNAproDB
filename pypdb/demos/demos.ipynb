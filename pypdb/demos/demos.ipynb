{
 "cells": [
  {
   "attachments": {},
   "cell_type": "markdown",
   "metadata": {},
   "source": [
    "# pypdb demos\n",
    "\n",
    "This is a set of basic examples of the usage and outputs of the various individual functions included in. There are generally three types of functions."
   ]
  },
  {
   "attachments": {},
   "cell_type": "markdown",
   "metadata": {},
   "source": [
    "### Preamble"
   ]
  },
  {
   "cell_type": "code",
   "execution_count": 2,
   "metadata": {},
   "outputs": [
    {
     "name": "stdout",
     "output_type": "stream",
     "text": [
      "The autoreload extension is already loaded. To reload it, use:\n",
      "  %reload_ext autoreload\n"
     ]
    }
   ],
   "source": [
    "%matplotlib inline\n",
    "from IPython.display import HTML\n",
    "\n",
    "# Import from local directory\n",
    "# import sys\n",
    "# sys.path.insert(0, '../pypdb')\n",
    "# from pypdb import *\n",
    "\n",
    "# Import from installed package\n",
    "from pypdb import *\n",
    "\n",
    "%load_ext autoreload\n",
    "%autoreload 2"
   ]
  },
  {
   "attachments": {},
   "cell_type": "markdown",
   "metadata": {},
   "source": [
    "# Search functions that return lists of PDB IDs"
   ]
  },
  {
   "attachments": {},
   "cell_type": "markdown",
   "metadata": {},
   "source": [
    "#### Get a list of PDBs for a specific search term"
   ]
  },
  {
   "cell_type": "code",
   "execution_count": 3,
   "metadata": {},
   "outputs": [
    {
     "name": "stdout",
     "output_type": "stream",
     "text": [
      "['1T1M', '1QI7', '6FSW', '1MRI', '486D', '1MRJ', '1AHC', '1MRH', '1RL0', '2PQG']\n"
     ]
    }
   ],
   "source": [
    "found_pdbs = Query(\"ribosome\").search()\n",
    "print(found_pdbs[:10])"
   ]
  },
  {
   "attachments": {},
   "cell_type": "markdown",
   "metadata": {},
   "source": [
    "#### Search by PubMed ID Number"
   ]
  },
  {
   "cell_type": "code",
   "execution_count": 5,
   "metadata": {},
   "outputs": [
    {
     "name": "stdout",
     "output_type": "stream",
     "text": [
      "['5IMT', '5IMW', '5IMY']\n"
     ]
    }
   ],
   "source": [
    "found_pdbs = Query(27499440, \"PubmedIdQuery\").search()\n",
    "print(found_pdbs[:10])"
   ]
  },
  {
   "attachments": {},
   "cell_type": "markdown",
   "metadata": {},
   "source": [
    "#### Search by source organism using NCBI TaxId"
   ]
  },
  {
   "cell_type": "code",
   "execution_count": 6,
   "metadata": {},
   "outputs": [
    {
     "name": "stdout",
     "output_type": "stream",
     "text": [
      "['1D4X', '1DYW', '1E3B', '1E8K', '1EMS']\n"
     ]
    }
   ],
   "source": [
    "found_pdbs = Query('6239', 'TreeEntityQuery').search() #TaxID for C elegans\n",
    "print(found_pdbs[:5])"
   ]
  },
  {
   "attachments": {},
   "cell_type": "markdown",
   "metadata": {},
   "source": [
    "#### Search by a specific experimental method"
   ]
  },
  {
   "cell_type": "code",
   "execution_count": 7,
   "metadata": {},
   "outputs": [
    {
     "name": "stdout",
     "output_type": "stream",
     "text": [
      "['1CEK', '1EQ8', '1M8M', '1MAG', '1MP6', '1MZT', '1NH4', '1NYJ', '1PI7', '1PI8']\n"
     ]
    }
   ],
   "source": [
    "found_pdbs = Query('SOLID-STATE NMR', query_type='ExpTypeQuery').search()\n",
    "print(found_pdbs[:10])"
   ]
  },
  {
   "attachments": {},
   "cell_type": "markdown",
   "metadata": {},
   "source": [
    "#### Search by protein structure similarity"
   ]
  },
  {
   "cell_type": "code",
   "execution_count": 8,
   "metadata": {},
   "outputs": [
    {
     "name": "stdout",
     "output_type": "stream",
     "text": [
      "['2E8D', '4OBA', '4OGV', '4JVR', '3LBL', '4QO4', '4JWR', '2G1E', '2WS4', '4ERE']\n"
     ]
    }
   ],
   "source": [
    "found_pdbs = Query('2E8D', query_type=\"structure\").search()\n",
    "print(found_pdbs[:10])"
   ]
  },
  {
   "attachments": {},
   "cell_type": "markdown",
   "metadata": {},
   "source": [
    "#### Search by Author"
   ]
  },
  {
   "cell_type": "code",
   "execution_count": 8,
   "metadata": {},
   "outputs": [
    {
     "name": "stdout",
     "output_type": "stream",
     "text": [
      "['1CQ4', '1FDH', '1GDJ', '1HDA', '1PBX', '2DHB', '2GDM', '2HHB', '2MHB', '3HHB', '4HHB']\n"
     ]
    }
   ],
   "source": [
    "found_pdbs = Query('Perutz, M.F.', query_type='AdvancedAuthorQuery').search()\n",
    "print(found_pdbs)"
   ]
  },
  {
   "attachments": {},
   "cell_type": "markdown",
   "metadata": {},
   "source": [
    "#### Search by organism"
   ]
  },
  {
   "cell_type": "code",
   "execution_count": 9,
   "metadata": {},
   "outputs": [
    {
     "name": "stdout",
     "output_type": "stream",
     "text": [
      "['2H84', '3MNQ', '4AE3', '8OHY', '5AN9', '6QKL', '2VM9', '2VMC', '2VMD', '2VME']\n"
     ]
    }
   ],
   "source": [
    "q = Query(\"Dictyostelium\", query_type=\"OrganismQuery\")\n",
    "print(q.search()[:10])"
   ]
  },
  {
   "cell_type": "markdown",
   "metadata": {},
   "source": [
    "#### Search by Uniprot ID"
   ]
  },
  {
   "cell_type": "code",
   "execution_count": 6,
   "metadata": {},
   "outputs": [
    {
     "name": "stdout",
     "output_type": "stream",
     "text": [
      "['4K1Y', '4K1Z', '4K20', '4K21']\n"
     ]
    }
   ],
   "source": [
    "uniprot_info = Query(\"A0A023GPI8\", query_type=\"uniprot\").search()\n",
    "print(uniprot_info[:5])"
   ]
  },
  {
   "cell_type": "markdown",
   "metadata": {},
   "source": [
    "#### Search by PFAM number"
   ]
  },
  {
   "cell_type": "code",
   "execution_count": 5,
   "metadata": {},
   "outputs": [
    {
     "name": "stdout",
     "output_type": "stream",
     "text": [
      "['1A3P', '1APO', '1AUT', '1BF9', '1CCF']\n"
     ]
    }
   ],
   "source": [
    "pfam_info = Query(\"PF00008\", query_type=\"pfam\").search()\n",
    "print(pfam_info[:5])"
   ]
  },
  {
   "attachments": {},
   "cell_type": "markdown",
   "metadata": {},
   "source": [
    "# Information Search functions\n",
    "While the basic functions described in the previous section are useful for looking up and manipulating individual unique entries, these functions are intended to be more user-facing: they take search keywords and return lists of authors or dates"
   ]
  },
  {
   "attachments": {},
   "cell_type": "markdown",
   "metadata": {},
   "source": [
    "#### Find papers for a given keyword"
   ]
  },
  {
   "cell_type": "code",
   "execution_count": 10,
   "metadata": {},
   "outputs": [
    {
     "name": "stdout",
     "output_type": "stream",
     "text": [
      "['Structures of the Cmr-beta Complex Reveal the Regulation of the Immunity Mechanism of Type III-B CRISPR-Cas.', 'Structures of the Cmr-beta Complex Reveal the Regulation of the Immunity Mechanism of Type III-B CRISPR-Cas', 'Crystal structure of the CRISPR-Cas RNA silencing Cmr complex bound to a target analog.', 'Structures of an active type III-A CRISPR effector complex.']\n"
     ]
    }
   ],
   "source": [
    "matching_papers = find_papers('crispr', max_results=10)\n",
    "print(list(matching_papers)[:10])"
   ]
  },
  {
   "attachments": {},
   "cell_type": "markdown",
   "metadata": {},
   "source": [
    "# Functions that return information about single PDB IDs"
   ]
  },
  {
   "attachments": {},
   "cell_type": "markdown",
   "metadata": {},
   "source": [
    "#### Get the full PDB file"
   ]
  },
  {
   "cell_type": "code",
   "execution_count": 11,
   "metadata": {},
   "outputs": [
    {
     "name": "stderr",
     "output_type": "stream",
     "text": [
      "/Users/william/micromamba/envs/pypdb/lib/python3.11/site-packages/pypdb/pypdb.py:487: DeprecationWarning: The `get_pdb_file` function within pypdb.py is deprecated.See `pypdb/clients/pdb/pdb_client.py` for a near-identical function to use\n",
      "  warnings.warn(\n",
      "/Users/william/micromamba/envs/pypdb/lib/python3.11/site-packages/pypdb/clients/pdb/pdb_client.py:61: UserWarning: Consider using `get_pdb_file` with compression=True for CIF files (it makes the file download faster!)\n",
      "  warnings.warn(\"Consider using `get_pdb_file` with compression=True \"\n"
     ]
    },
    {
     "name": "stdout",
     "output_type": "stream",
     "text": [
      "Sending GET request to https://files.rcsb.org/download/4lza.cif to fetch 4lza's cif file as a string.\n",
      "data_4LZA\n",
      "# \n",
      "_entry.id   4LZA \n",
      "# \n",
      "_audit_conform.dict_name       mmcif_pdbx.dic \n",
      "_audit_conform.dict_version    5.281 \n",
      "_audit_conform.dict_location   http://mmcif.pdb.org/dictionaries/ascii/mmcif_pdbx.dic \n",
      "# \n",
      "loop_\n",
      "_database_2.database_id \n",
      "_database_2.database_code \n",
      "PDB   4LZA         \n",
      "RCSB  RCSB081269   \n",
      "WWPDB D_1000081269 \n",
      "# \n",
      "_pdbx_database_related.db_name        TargetTrack \n",
      "_pdbx_database_rela\n"
     ]
    }
   ],
   "source": [
    "pdb_file = get_pdb_file('4lza', filetype='cif', compression=False)\n",
    "print(pdb_file[:400])"
   ]
  },
  {
   "attachments": {},
   "cell_type": "markdown",
   "metadata": {},
   "source": [
    "#### Get a general description of the entry's metadata"
   ]
  },
  {
   "cell_type": "code",
   "execution_count": 12,
   "metadata": {},
   "outputs": [
    {
     "name": "stdout",
     "output_type": "stream",
     "text": [
      "['audit_author', 'cell', 'citation', 'diffrn', 'diffrn_detector', 'diffrn_radiation', 'diffrn_source', 'entry', 'exptl', 'exptl_crystal', 'exptl_crystal_grow', 'pdbx_sgproject', 'pdbx_audit_revision_details', 'pdbx_audit_revision_history', 'pdbx_database_related', 'pdbx_database_status', 'rcsb_accession_info', 'rcsb_entry_container_identifiers', 'rcsb_entry_info', 'rcsb_primary_citation', 'refine', 'refine_hist', 'refine_ls_restr', 'reflns', 'reflns_shell', 'software', 'struct', 'struct_keywords', 'symmetry', 'rcsb_id']\n"
     ]
    }
   ],
   "source": [
    "all_info = get_info('4LZA')\n",
    "print(list(all_info.keys()))"
   ]
  },
  {
   "attachments": {},
   "cell_type": "markdown",
   "metadata": {},
   "source": [
    "#### Run a Sequence search\n",
    "\n",
    "Formerly using BLAST, this method now uses MMseqs2"
   ]
  },
  {
   "cell_type": "code",
   "execution_count": 13,
   "metadata": {},
   "outputs": [
    {
     "name": "stdout",
     "output_type": "stream",
     "text": [
      "{'query_id': '5ec265f7-2164-4e35-8d07-08df2a964532', 'result_type': 'polymer_entity', 'total_count': 846, 'result_set': [{'identifier': '1A00_1', 'score': 1.0, 'services': [{'service_type': 'sequence', 'nodes': [{'node_id': 20656, 'original_score': 164.0, 'norm_score': 1.0, 'match_context': [{'sequence_identity': 0.987, 'evalue': 2.933e-47, 'bitscore': 164, 'alignment_length': 80, 'mismatches': 0, 'gaps_opened': 1, 'query_beg': 1, 'query_end': 79, 'subject_beg': 1, 'subject_end': 80, 'query_length': 79, 'subject_length': 141, 'query_aligned_seq': 'VLSPADKTNVKAAWGKVGAHAGEYGAEALERMFLSFPTTKTYFPHFDLSHGSAQVKGHGKKVADALT-AVAHVDDMPNAL', 'subject_aligned_seq': 'VLSPADKTNVKAAWGKVGAHAGEYGAEALERMFLSFPTTKTYFPHFDLSHGSAQVKGHGKKVADALTNAVAHVDDMPNAL'}]}]}]}, {'identifier': '1A01_1', 'score': 1.0, 'services': [{'service_type': 'sequence', 'nodes': [{'node_id': 20656, 'original_score': 164.0, 'norm_score': 1.0, 'match_context': [{'sequence_identity': 0.987, 'evalue': 2.933e-47, 'bitscore': 164, 'alignment_length': 80, 'mismatches': 0, 'gaps_opened': 1, 'query_beg': 1, 'query_end': 79, 'subject_beg': 1, 'subject_end': 80, 'query_length': 79, 'subject_length': 141, 'query_aligned_seq': 'VLSPADKTNVKAAWGKVGAHAGEYGAEALERMFLSFPTTKTYFPHFDLSHGSAQVKGHGKKVADALT-AVAHVDDMPNAL', 'subject_aligned_seq': 'VLSPADKTNVKAAWGKVGAHAGEYGAEALERMFLSFPTTKTYFPHFDLSHGSAQVKGHGKKVADALTNAVAHVDDMPNAL'}]}]}]}, {'identifier': '1A0U_1', 'score': 1.0, 'services': [{'service_type': 'sequence', 'nodes': [{'node_id': 20656, 'original_score': 164.0, 'norm_score': 1.0, 'match_context': [{'sequence_identity': 0.987, 'evalue': 2.933e-47, 'bitscore': 164, 'alignment_length': 80, 'mismatches': 0, 'gaps_opened': 1, 'query_beg': 1, 'query_end': 79, 'subject_beg': 1, 'subject_end': 80, 'query_length': 79, 'subject_length': 141, 'query_aligned_seq': 'VLSPADKTNVKAAWGKVGAHAGEYGAEALERMFLSFPTTKTYFPHFDLSHGSAQVKGHGKKVADALT-AVAHVDDMPNAL', 'subject_aligned_seq': 'VLSPADKTNVKAAWGKVGAHAGEYGAEALERMFLSFPTTKTYFPHFDLSHGSAQVKGHGKKVADALTNAVAHVDDMPNAL'}]}]}]}, {'identifier': '1A0Z_1', 'score': 1.0, 'services': [{'service_type': 'sequence', 'nodes': [{'node_id': 20656, 'original_score': 164.0, 'norm_score': 1.0, 'match_context': [{'sequence_identity': 0.987, 'evalue': 2.933e-47, 'bitscore': 164, 'alignment_length': 80, 'mismatches': 0, 'gaps_opened': 1, 'query_beg': 1, 'query_end': 79, 'subject_beg': 1, 'subject_end': 80, 'query_length': 79, 'subject_length': 141, 'query_aligned_seq': 'VLSPADKTNVKAAWGKVGAHAGEYGAEALERMFLSFPTTKTYFPHFDLSHGSAQVKGHGKKVADALT-AVAHVDDMPNAL', 'subject_aligned_seq': 'VLSPADKTNVKAAWGKVGAHAGEYGAEALERMFLSFPTTKTYFPHFDLSHGSAQVKGHGKKVADALTNAVAHVDDMPNAL'}]}]}]}, {'identifier': '1A3N_1', 'score': 1.0, 'services': [{'service_type': 'sequence', 'nodes': [{'node_id': 20656, 'original_score': 164.0, 'norm_score': 1.0, 'match_context': [{'sequence_identity': 0.987, 'evalue': 2.933e-47, 'bitscore': 164, 'alignment_length': 80, 'mismatches': 0, 'gaps_opened': 1, 'query_beg': 1, 'query_end': 79, 'subject_beg': 1, 'subject_end': 80, 'query_length': 79, 'subject_length': 141, 'query_aligned_seq': 'VLSPADKTNVKAAWGKVGAHAGEYGAEALERMFLSFPTTKTYFPHFDLSHGSAQVKGHGKKVADALT-AVAHVDDMPNAL', 'subject_aligned_seq': 'VLSPADKTNVKAAWGKVGAHAGEYGAEALERMFLSFPTTKTYFPHFDLSHGSAQVKGHGKKVADALTNAVAHVDDMPNAL'}]}]}]}, {'identifier': '1A9W_1', 'score': 1.0, 'services': [{'service_type': 'sequence', 'nodes': [{'node_id': 20656, 'original_score': 164.0, 'norm_score': 1.0, 'match_context': [{'sequence_identity': 0.987, 'evalue': 2.933e-47, 'bitscore': 164, 'alignment_length': 80, 'mismatches': 0, 'gaps_opened': 1, 'query_beg': 1, 'query_end': 79, 'subject_beg': 1, 'subject_end': 80, 'query_length': 79, 'subject_length': 141, 'query_aligned_seq': 'VLSPADKTNVKAAWGKVGAHAGEYGAEALERMFLSFPTTKTYFPHFDLSHGSAQVKGHGKKVADALT-AVAHVDDMPNAL', 'subject_aligned_seq': 'VLSPADKTNVKAAWGKVGAHAGEYGAEALERMFLSFPTTKTYFPHFDLSHGSAQVKGHGKKVADALTNAVAHVDDMPNAL'}]}]}]}, {'identifier': '1ABW_1', 'score': 1.0, 'services': [{'service_type': 'sequence', 'nodes': [{'node_id': 20656, 'original_score': 164.0, 'norm_score': 1.0, 'match_context': [{'sequence_identity': 0.987, 'evalue': 2.933e-47, 'bitscore': 164, 'alignment_length': 80, 'mismatches': 0, 'gaps_opened': 1, 'query_beg': 1, 'query_end': 79, 'subject_beg': 143, 'subject_end': 222, 'query_length': 79, 'subject_length': 283, 'query_aligned_seq': 'VLSPADKTNVKAAWGKVGAHAGEYGAEALERMFLSFPTTKTYFPHFDLSHGSAQVKGHGKKVADALT-AVAHVDDMPNAL', 'subject_aligned_seq': 'VLSPADKTNVKAAWGKVGAHAGEYGAEALERMFLSFPTTKTYFPHFDLSHGSAQVKGHGKKVADALTNAVAHVDDMPNAL'}]}]}]}, {'identifier': '1ABY_1', 'score': 1.0, 'services': [{'service_type': 'sequence', 'nodes': [{'node_id': 20656, 'original_score': 164.0, 'norm_score': 1.0, 'match_context': [{'sequence_identity': 0.987, 'evalue': 2.933e-47, 'bitscore': 164, 'alignment_length': 80, 'mismatches': 0, 'gaps_opened': 1, 'query_beg': 1, 'query_end': 79, 'subject_beg': 143, 'subject_end': 222, 'query_length': 79, 'subject_length': 283, 'query_aligned_seq': 'VLSPADKTNVKAAWGKVGAHAGEYGAEALERMFLSFPTTKTYFPHFDLSHGSAQVKGHGKKVADALT-AVAHVDDMPNAL', 'subject_aligned_seq': 'VLSPADKTNVKAAWGKVGAHAGEYGAEALERMFLSFPTTKTYFPHFDLSHGSAQVKGHGKKVADALTNAVAHVDDMPNAL'}]}]}]}, {'identifier': '1B86_1', 'score': 1.0, 'services': [{'service_type': 'sequence', 'nodes': [{'node_id': 20656, 'original_score': 164.0, 'norm_score': 1.0, 'match_context': [{'sequence_identity': 0.987, 'evalue': 2.933e-47, 'bitscore': 164, 'alignment_length': 80, 'mismatches': 0, 'gaps_opened': 1, 'query_beg': 1, 'query_end': 79, 'subject_beg': 1, 'subject_end': 80, 'query_length': 79, 'subject_length': 141, 'query_aligned_seq': 'VLSPADKTNVKAAWGKVGAHAGEYGAEALERMFLSFPTTKTYFPHFDLSHGSAQVKGHGKKVADALT-AVAHVDDMPNAL', 'subject_aligned_seq': 'VLSPADKTNVKAAWGKVGAHAGEYGAEALERMFLSFPTTKTYFPHFDLSHGSAQVKGHGKKVADALTNAVAHVDDMPNAL'}]}]}]}, {'identifier': '1BBB_1', 'score': 1.0, 'services': [{'service_type': 'sequence', 'nodes': [{'node_id': 20656, 'original_score': 164.0, 'norm_score': 1.0, 'match_context': [{'sequence_identity': 0.987, 'evalue': 2.933e-47, 'bitscore': 164, 'alignment_length': 80, 'mismatches': 0, 'gaps_opened': 1, 'query_beg': 1, 'query_end': 79, 'subject_beg': 1, 'subject_end': 80, 'query_length': 79, 'subject_length': 141, 'query_aligned_seq': 'VLSPADKTNVKAAWGKVGAHAGEYGAEALERMFLSFPTTKTYFPHFDLSHGSAQVKGHGKKVADALT-AVAHVDDMPNAL', 'subject_aligned_seq': 'VLSPADKTNVKAAWGKVGAHAGEYGAEALERMFLSFPTTKTYFPHFDLSHGSAQVKGHGKKVADALTNAVAHVDDMPNAL'}]}]}]}]}\n"
     ]
    }
   ],
   "source": [
    "q = Query(\"VLSPADKTNVKAAWGKVGAHAGEYGAEALERMFLSFPTTKTYFPHFDLSHGSAQVKGHGKKVADALTAVAHVDDMPNAL\", \n",
    "          query_type=\"sequence\", \n",
    "          return_type=\"polymer_entity\")\n",
    "\n",
    "print(q.search())"
   ]
  },
  {
   "attachments": {},
   "cell_type": "markdown",
   "metadata": {},
   "source": [
    "# New API for advanced search\n",
    "\n",
    "The old API will gradually migrate to use these functions"
   ]
  },
  {
   "cell_type": "code",
   "execution_count": 15,
   "metadata": {},
   "outputs": [],
   "source": [
    "from pypdb.clients.search.search_client import perform_search\n",
    "from pypdb.clients.search.search_client import ReturnType\n",
    "from pypdb.clients.search.operators import text_operators"
   ]
  },
  {
   "attachments": {},
   "cell_type": "markdown",
   "metadata": {},
   "source": [
    "## Search for all entries that mention the word 'ribosome'"
   ]
  },
  {
   "cell_type": "code",
   "execution_count": 16,
   "metadata": {},
   "outputs": [
    {
     "name": "stdout",
     "output_type": "stream",
     "text": [
      "Querying RCSB Search using the following parameters:\n",
      " {\"query\": {\"type\": \"terminal\", \"service\": \"full_text\", \"parameters\": {\"value\": \"ribosome\"}}, \"request_options\": {\"return_all_hits\": true}, \"return_type\": \"entry\"} \n",
      "\n",
      "['486D', '1T1M', '1QI7', '1MRI', '1AHC', '1MOM', '1MRH', '1WIH', '1MRJ', '7AFQ']\n"
     ]
    }
   ],
   "source": [
    "search_operator = text_operators.DefaultOperator(value=\"ribosome\")\n",
    "return_type = ReturnType.ENTRY\n",
    "\n",
    "results = perform_search(search_operator, return_type)\n",
    "\n",
    "print(results[:10])"
   ]
  },
  {
   "attachments": {},
   "cell_type": "markdown",
   "metadata": {},
   "source": [
    "## Search for polymers from 'Mus musculus'"
   ]
  },
  {
   "cell_type": "code",
   "execution_count": 17,
   "metadata": {},
   "outputs": [
    {
     "name": "stdout",
     "output_type": "stream",
     "text": [
      "Querying RCSB Search using the following parameters:\n",
      " {\"query\": {\"type\": \"terminal\", \"service\": \"text\", \"parameters\": {\"attribute\": \"rcsb_entity_source_organism.taxonomy_lineage.name\", \"operator\": \"exact_match\", \"value\": \"Mus musculus\"}}, \"request_options\": {\"return_all_hits\": true}, \"return_type\": \"polymer_entity\"} \n",
      "\n",
      "['12E8_1', '12E8_2', '15C8_1', '15C8_2', '1914_1']\n"
     ]
    }
   ],
   "source": [
    "search_operator = text_operators.ExactMatchOperator(value=\"Mus musculus\",\n",
    "                                                    attribute=\"rcsb_entity_source_organism.taxonomy_lineage.name\")\n",
    "return_type = ReturnType.POLYMER_ENTITY\n",
    "\n",
    "results = perform_search(search_operator, return_type)\n",
    "\n",
    "print(results[:5])"
   ]
  },
  {
   "attachments": {},
   "cell_type": "markdown",
   "metadata": {},
   "source": [
    "## Search for non-polymers from 'Mus musculus' or 'Homo sapiens'"
   ]
  },
  {
   "cell_type": "code",
   "execution_count": null,
   "metadata": {},
   "outputs": [],
   "source": [
    "search_operator = text_operators.InOperator(values=[\"Mus musculus\", \"Homo sapiens\"],\n",
    "                                            attribute=\"rcsb_entity_source_organism.taxonomy_lineage.name\")\n",
    "return_type = ReturnType.NON_POLYMER_ENTITY\n",
    "\n",
    "results = perform_search(search_operator, return_type)\n",
    "print(results[:5])"
   ]
  },
  {
   "attachments": {},
   "cell_type": "markdown",
   "metadata": {},
   "source": [
    "## Search for polymer instances whose titles contain \"actin\" or \"binding\" or \"protein\""
   ]
  },
  {
   "cell_type": "code",
   "execution_count": null,
   "metadata": {},
   "outputs": [],
   "source": [
    "search_operator = text_operators.ContainsWordsOperator(value=\"actin-binding protein\",\n",
    "                                            attribute=\"struct.title\")\n",
    "return_type = ReturnType.POLYMER_INSTANCE\n",
    "\n",
    "results = perform_search(search_operator, return_type)\n",
    "\n",
    "print(results[:5])"
   ]
  },
  {
   "attachments": {},
   "cell_type": "markdown",
   "metadata": {},
   "source": [
    "## Search for assemblies that contain the words \"actin binding protein\"\n",
    "(must be in that order).\n",
    "\n",
    "For example, \"actin-binding protein\" and \"actin binding protein\" will match,\n",
    "but \"protein binding actin\" will not."
   ]
  },
  {
   "cell_type": "code",
   "execution_count": null,
   "metadata": {},
   "outputs": [],
   "source": [
    "search_operator = text_operators.ContainsPhraseOperator(value=\"actin-binding protein\",\n",
    "                                            attribute=\"struct.title\")\n",
    "return_type = ReturnType.ASSEMBLY\n",
    "\n",
    "results = perform_search(search_operator, return_type, verbosity=True)\n",
    "\n",
    "print(results[:5])"
   ]
  },
  {
   "attachments": {},
   "cell_type": "markdown",
   "metadata": {},
   "source": [
    "## Search for entries released in 2019 or later"
   ]
  },
  {
   "cell_type": "code",
   "execution_count": null,
   "metadata": {},
   "outputs": [],
   "source": [
    "search_operator = text_operators.ComparisonOperator(\n",
    "       value=\"2019-01-01T00:00:00Z\",\n",
    "       attribute=\"rcsb_accession_info.initial_release_date\",\n",
    "       comparison_type=text_operators.ComparisonType.GREATER)\n",
    "return_type = ReturnType.ENTRY\n",
    "\n",
    "results = perform_search(search_operator, return_type)\n",
    "\n",
    "print(results[:5])"
   ]
  },
  {
   "attachments": {},
   "cell_type": "markdown",
   "metadata": {},
   "source": [
    "## Search for entries released only in 2019"
   ]
  },
  {
   "cell_type": "code",
   "execution_count": null,
   "metadata": {},
   "outputs": [],
   "source": [
    "search_operator = text_operators.RangeOperator(\n",
    "    from_value=\"2019-01-01T00:00:00Z\",\n",
    "    to_value=\"2020-01-01T00:00:00Z\",\n",
    "    include_lower=True,\n",
    "    include_upper=False,\n",
    "    attribute=\"rcsb_accession_info.initial_release_date\")\n",
    "return_type = ReturnType.ENTRY\n",
    "\n",
    "results = perform_search(search_operator, return_type)\n",
    "\n",
    "print(results[:5])"
   ]
  },
  {
   "attachments": {},
   "cell_type": "markdown",
   "metadata": {},
   "source": [
    "## Search by cell length and suppress query output"
   ]
  },
  {
   "cell_type": "code",
   "execution_count": 4,
   "metadata": {},
   "outputs": [
    {
     "name": "stdout",
     "output_type": "stream",
     "text": [
      "['190D', '1A0L', '1A0Z', '1A18', '1A2D']\n"
     ]
    }
   ],
   "source": [
    "from pypdb.clients.search.search_client import perform_search_with_graph, SearchService, ReturnType\n",
    "from pypdb.clients.search.operators import text_operators\n",
    "\n",
    "cell_a_operator = text_operators.RangeOperator(\n",
    "    attribute='cell.length_a',\n",
    "    from_value=80,\n",
    "    to_value=84,\n",
    "    include_upper=True\n",
    ")\n",
    "\n",
    "results = perform_search_with_graph(\n",
    "    query_object=cell_a_operator,\n",
    "    return_type=ReturnType.ENTRY,\n",
    "    verbosity=False,\n",
    ")\n",
    "\n",
    "print(results[:5])"
   ]
  },
  {
   "attachments": {},
   "cell_type": "markdown",
   "metadata": {},
   "source": [
    "## Search for structures under 4 angstroms of resolution"
   ]
  },
  {
   "cell_type": "code",
   "execution_count": 5,
   "metadata": {},
   "outputs": [
    {
     "name": "stdout",
     "output_type": "stream",
     "text": [
      "Querying RCSB Search using the following parameters:\n",
      " {\"query\": {\"type\": \"terminal\", \"service\": \"text\", \"parameters\": {\"operator\": \"less\", \"attribute\": \"rcsb_entry_info.resolution_combined\", \"value\": 4}}, \"request_options\": {\"return_all_hits\": true}, \"return_type\": \"entry\"} \n",
      "\n",
      "['118D', '129D', '142L', '153D', '169L']\n"
     ]
    }
   ],
   "source": [
    "search_operator = text_operators.ComparisonOperator(\n",
    "           value=4,\n",
    "           attribute=\"rcsb_entry_info.resolution_combined\",\n",
    "           comparison_type=text_operators.ComparisonType.LESS)\n",
    "return_type = ReturnType.ENTRY\n",
    "\n",
    "results = perform_search(search_operator, return_type)\n",
    "\n",
    "print(results[:5])"
   ]
  },
  {
   "attachments": {},
   "cell_type": "markdown",
   "metadata": {},
   "source": [
    "## Search for structures with a given attribute.\n",
    "\n",
    "(Admittedly every structure has a release date, but the same logic would\n",
    " apply for a more sparse RCSB attribute).\n"
   ]
  },
  {
   "cell_type": "code",
   "execution_count": null,
   "metadata": {},
   "outputs": [],
   "source": [
    "search_operator = text_operators.ExistsOperator(\n",
    "    attribute=\"rcsb_accession_info.initial_release_date\")\n",
    "return_type = ReturnType.ENTRY\n",
    "\n",
    "results = perform_search(search_operator, return_type)\n",
    "\n",
    "print(results[:5])"
   ]
  },
  {
   "attachments": {},
   "cell_type": "markdown",
   "metadata": {},
   "source": [
    "## Search for 'Mus musculus' or 'Homo sapiens' structures after 2019 using graph search\n"
   ]
  },
  {
   "cell_type": "code",
   "execution_count": null,
   "metadata": {},
   "outputs": [],
   "source": [
    "from pypdb.clients.search.search_client import perform_search_with_graph\n",
    "from pypdb.clients.search.search_client import ReturnType\n",
    "from pypdb.clients.search.search_client import QueryGroup, LogicalOperator\n",
    "from pypdb.clients.search.operators import text_operators\n",
    "\n",
    "# SearchOperator associated with structures with under 4 Angstroms of resolution\n",
    "under_4A_resolution_operator = text_operators.ComparisonOperator(\n",
    "       value=4,\n",
    "       attribute=\"rcsb_entry_info.resolution_combined\",\n",
    "       comparison_type=text_operators.ComparisonType.GREATER)\n",
    "\n",
    "# SearchOperator associated with entities containing 'Mus musculus' lineage\n",
    "is_mus_operator = text_operators.ExactMatchOperator(\n",
    "            value=\"Mus musculus\",\n",
    "            attribute=\"rcsb_entity_source_organism.taxonomy_lineage.name\")\n",
    "\n",
    "# SearchOperator associated with entities containing 'Homo sapiens' lineage\n",
    "is_human_operator = text_operators.ExactMatchOperator(\n",
    "            value=\"Homo sapiens\",\n",
    "            attribute=\"rcsb_entity_source_organism.taxonomy_lineage.name\")\n",
    "\n",
    "# QueryGroup associated with being either human or `Mus musculus`\n",
    "is_human_or_mus_group = QueryGroup(\n",
    "    queries = [is_mus_operator, is_human_operator],\n",
    "    logical_operator = LogicalOperator.OR\n",
    ")\n",
    "\n",
    "# QueryGroup associated with being ((Human OR Mus) AND (Under 4 Angstroms))\n",
    "is_under_4A_and_human_or_mus_group = QueryGroup(\n",
    "    queries = [is_human_or_mus_group, under_4A_resolution_operator],\n",
    "    logical_operator = LogicalOperator.AND\n",
    ")\n",
    "\n",
    "return_type = ReturnType.ENTRY\n",
    "\n",
    "results = perform_search_with_graph(\n",
    "  query_object=is_under_4A_and_human_or_mus_group,\n",
    "  return_type=return_type)\n",
    "print(\"\\n\", results[:10]) # Huzzah"
   ]
  }
 ],
 "metadata": {
  "kernelspec": {
   "display_name": "Python 3.8.5 ('pypdb')",
   "language": "python",
   "name": "python3"
  },
  "language_info": {
   "codemirror_mode": {
    "name": "ipython",
    "version": 3
   },
   "file_extension": ".py",
   "mimetype": "text/x-python",
   "name": "python",
   "nbconvert_exporter": "python",
   "pygments_lexer": "ipython3",
   "version": "3.11.4"
  },
  "vscode": {
   "interpreter": {
    "hash": "09ee6d1bf2b7cd417c8167e46ca6628a27deedbfc4a760a738682f93903b6ec3"
   }
  }
 },
 "nbformat": 4,
 "nbformat_minor": 4
}
